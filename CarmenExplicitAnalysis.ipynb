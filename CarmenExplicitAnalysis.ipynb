{
 "cells": [
  {
   "cell_type": "markdown",
   "metadata": {},
   "source": [
    "# Carmens Analyse Script\n",
    "This script contains a function that can perform parts of the behavioral analysis of Carmens Master Thesis. "
   ]
  },
  {
   "cell_type": "code",
   "execution_count": 1,
   "metadata": {
    "collapsed": true
   },
   "outputs": [],
   "source": [
    "import numpy as np"
   ]
  },
  {
   "cell_type": "markdown",
   "metadata": {},
   "source": [
    "## Random data\n",
    "Generate random data. Rules: \n",
    "1. no repeating numbers."
   ]
  },
  {
   "cell_type": "code",
   "execution_count": 2,
   "metadata": {
    "collapsed": true
   },
   "outputs": [],
   "source": [
    "lenDataSet = 20\n",
    "def genRandData(lenDataSet):\n",
    "    sequence = np.zeros(lenDataSet)\n",
    "    nextNumber=np.random.choice([1,2,3,4])\n",
    "    for i in np.arange(lenDataSet):\n",
    "        sequence[i] = nextNumber\n",
    "    # update nextNumber in accordance to current nextNumber\n",
    "        if nextNumber == 1:\n",
    "            nextNumber = np.random.choice([2,3,4])\n",
    "        elif nextNumber == 2:\n",
    "            nextNumber = np.random.choice([1,3,4])\n",
    "        elif nextNumber == 3:\n",
    "            nextNumber = np.random.choice([1,2,4])\n",
    "        elif nextNumber == 4:\n",
    "            nextNumber = np.random.choice([1,2,3])\n",
    "    return sequence"
   ]
  },
  {
   "cell_type": "code",
   "execution_count": 3,
   "metadata": {},
   "outputs": [
    {
     "data": {
      "text/plain": [
       "array([ 4.,  1.,  3.,  2.,  1.,  2.,  4.,  2.,  1.,  3.,  2.,  1.])"
      ]
     },
     "execution_count": 3,
     "metadata": {},
     "output_type": "execute_result"
    }
   ],
   "source": [
    "\n",
    "sequenceTrue=np.array([1,3,2,4,3,4,1,2,3,1,4,2])\n",
    "genRandData(12)"
   ]
  },
  {
   "cell_type": "markdown",
   "metadata": {},
   "source": [
    "## Preprocessing sequence of subjects"
   ]
  },
  {
   "cell_type": "markdown",
   "metadata": {},
   "source": [
    "## Get Explicitness score\n",
    "\n",
    "using https://stackoverflow.com/questions/16970982/find-unique-rows-in-numpy-array for unique kernels"
   ]
  },
  {
   "cell_type": "code",
   "execution_count": 24,
   "metadata": {
    "collapsed": true
   },
   "outputs": [],
   "source": [
    "criterion = 4 # = criterion how many subsequent correct responses give a score point.\n",
    "def getExplScore(sequenceTrue,sequenceEst,criterion):\n",
    "    numSteps=len(sequenceEst)-(criterion-1)\n",
    "    scoreSubj = 0\n",
    "    # create kernels\n",
    "    kernels=np.zeros(shape=(numSteps,criterion))\n",
    "    for i in np.arange(numSteps):\n",
    "        kernels[i,:]=sequenceEst[i:i+criterion]\n",
    "    # kill redundant kernels\n",
    "    uniqueKernels,index = np.unique(kernels, axis=0,return_index=True)\n",
    "    for i in np.arange(len(uniqueKernels)):\n",
    "        score = loopThroughTrue(uniqueKernels[i,:],sequenceTrue,criterion)\n",
    "        scoreSubj+=score\n",
    "    return scoreSubj\n",
    "def loopThroughTrue(kernel,sequenceTrue,criterion):    \n",
    "    numSteps=len(sequenceTrue)-(criterion-1)\n",
    "    score = 0\n",
    "    for i in np.arange(numSteps):\n",
    "        np.array_equal(kernel, sequenceTrue[i:i+criterion])\n",
    "        #if kernel == part of sequenceTrue -> give score\n",
    "        if np.array_equal(kernel, sequenceTrue[i:i+criterion]) == True:\n",
    "            score+=1  \n",
    "    return score"
   ]
  },
  {
   "cell_type": "code",
   "execution_count": 15,
   "metadata": {},
   "outputs": [
    {
     "data": {
      "text/plain": [
       "0"
      ]
     },
     "execution_count": 15,
     "metadata": {},
     "output_type": "execute_result"
    }
   ],
   "source": [
    "getExplScore(sequenceTrue,sequenceEst,criterion)"
   ]
  },
  {
   "cell_type": "markdown",
   "metadata": {},
   "source": [
    "## simulate random data\n"
   ]
  },
  {
   "cell_type": "code",
   "execution_count": 20,
   "metadata": {
    "collapsed": true
   },
   "outputs": [],
   "source": [
    "\n",
    "numSimulations=10000\n",
    "lenDataSet=20\n",
    "performance=np.zeros(numSimulations)\n",
    "for i in np.arange(numSimulations):\n",
    "    sequenceEst=genRandData(lenDataSet)\n",
    "    performance[i]=getExplScore(sequenceTrue,sequenceEst,criterion)\n"
   ]
  },
  {
   "cell_type": "code",
   "execution_count": 21,
   "metadata": {},
   "outputs": [
    {
     "data": {
      "text/plain": [
       "array([ 0.,  0.,  0., ...,  2.,  0.,  0.])"
      ]
     },
     "execution_count": 21,
     "metadata": {},
     "output_type": "execute_result"
    }
   ],
   "source": [
    "performance"
   ]
  },
  {
   "cell_type": "code",
   "execution_count": 22,
   "metadata": {},
   "outputs": [
    {
     "data": {
      "text/plain": [
       "0.3836"
      ]
     },
     "execution_count": 22,
     "metadata": {},
     "output_type": "execute_result"
    }
   ],
   "source": [
    "performance.mean()"
   ]
  },
  {
   "cell_type": "code",
   "execution_count": 23,
   "metadata": {},
   "outputs": [
    {
     "data": {
      "text/plain": [
       "0.76866835501404629"
      ]
     },
     "execution_count": 23,
     "metadata": {},
     "output_type": "execute_result"
    }
   ],
   "source": [
    "performance.std()"
   ]
  },
  {
   "cell_type": "code",
   "execution_count": null,
   "metadata": {
    "collapsed": true
   },
   "outputs": [],
   "source": []
  },
  {
   "cell_type": "code",
   "execution_count": null,
   "metadata": {
    "collapsed": true
   },
   "outputs": [],
   "source": []
  },
  {
   "cell_type": "code",
   "execution_count": null,
   "metadata": {
    "collapsed": true
   },
   "outputs": [],
   "source": []
  },
  {
   "cell_type": "code",
   "execution_count": null,
   "metadata": {
    "collapsed": true
   },
   "outputs": [],
   "source": []
  }
 ],
 "metadata": {
  "kernelspec": {
   "display_name": "Python 3",
   "language": "python",
   "name": "python3"
  },
  "language_info": {
   "codemirror_mode": {
    "name": "ipython",
    "version": 3
   },
   "file_extension": ".py",
   "mimetype": "text/x-python",
   "name": "python",
   "nbconvert_exporter": "python",
   "pygments_lexer": "ipython3",
   "version": "3.6.3"
  }
 },
 "nbformat": 4,
 "nbformat_minor": 2
}
